{
 "cells": [
  {
   "cell_type": "code",
   "execution_count": 2,
   "metadata": {},
   "outputs": [],
   "source": [
    "import pandas as pd\n",
    "import numpy as np"
   ]
  },
  {
   "cell_type": "code",
   "execution_count": 3,
   "metadata": {},
   "outputs": [
    {
     "data": {
      "text/html": [
       "<div>\n",
       "<style scoped>\n",
       "    .dataframe tbody tr th:only-of-type {\n",
       "        vertical-align: middle;\n",
       "    }\n",
       "\n",
       "    .dataframe tbody tr th {\n",
       "        vertical-align: top;\n",
       "    }\n",
       "\n",
       "    .dataframe thead th {\n",
       "        text-align: right;\n",
       "    }\n",
       "</style>\n",
       "<table border=\"1\" class=\"dataframe\">\n",
       "  <thead>\n",
       "    <tr style=\"text-align: right;\">\n",
       "      <th></th>\n",
       "      <th>chicken_name</th>\n",
       "      <th>feather_color</th>\n",
       "      <th>sex</th>\n",
       "      <th>batch</th>\n",
       "      <th>start</th>\n",
       "      <th>end</th>\n",
       "      <th>picture</th>\n",
       "      <th>death_cause</th>\n",
       "    </tr>\n",
       "  </thead>\n",
       "  <tbody>\n",
       "    <tr>\n",
       "      <th>0</th>\n",
       "      <td>Mary</td>\n",
       "      <td>white</td>\n",
       "      <td>Hen</td>\n",
       "      <td>1</td>\n",
       "      <td>2022/3/26</td>\n",
       "      <td>present</td>\n",
       "      <td>🐓</td>\n",
       "      <td>NaN</td>\n",
       "    </tr>\n",
       "    <tr>\n",
       "      <th>1</th>\n",
       "      <td>Charlotte</td>\n",
       "      <td>white</td>\n",
       "      <td>Hen</td>\n",
       "      <td>1</td>\n",
       "      <td>2022/3/26</td>\n",
       "      <td>2024/1/27</td>\n",
       "      <td>🐓</td>\n",
       "      <td>by fox</td>\n",
       "    </tr>\n",
       "    <tr>\n",
       "      <th>2</th>\n",
       "      <td>Buttercup</td>\n",
       "      <td>white</td>\n",
       "      <td>Hen</td>\n",
       "      <td>1</td>\n",
       "      <td>2022/3/26</td>\n",
       "      <td>2022/10/8</td>\n",
       "      <td>🐓</td>\n",
       "      <td>by us</td>\n",
       "    </tr>\n",
       "    <tr>\n",
       "      <th>3</th>\n",
       "      <td>Unnamed1</td>\n",
       "      <td>white</td>\n",
       "      <td>Hen</td>\n",
       "      <td>1</td>\n",
       "      <td>2022/3/26</td>\n",
       "      <td>2022/5/1</td>\n",
       "      <td>🐓</td>\n",
       "      <td>by unknown animal</td>\n",
       "    </tr>\n",
       "    <tr>\n",
       "      <th>4</th>\n",
       "      <td>Unnamed2</td>\n",
       "      <td>white</td>\n",
       "      <td>Hen</td>\n",
       "      <td>1</td>\n",
       "      <td>2022/3/26</td>\n",
       "      <td>2022/5/1</td>\n",
       "      <td>🐓</td>\n",
       "      <td>by unknown animal</td>\n",
       "    </tr>\n",
       "  </tbody>\n",
       "</table>\n",
       "</div>"
      ],
      "text/plain": [
       "  chicken_name feather_color  sex  batch      start        end picture  \\\n",
       "0         Mary         white  Hen      1  2022/3/26    present       🐓   \n",
       "1    Charlotte         white  Hen      1  2022/3/26  2024/1/27       🐓   \n",
       "2    Buttercup         white  Hen      1  2022/3/26  2022/10/8       🐓   \n",
       "3     Unnamed1         white  Hen      1  2022/3/26   2022/5/1       🐓   \n",
       "4     Unnamed2         white  Hen      1  2022/3/26   2022/5/1       🐓   \n",
       "\n",
       "         death_cause  \n",
       "0                NaN  \n",
       "1             by fox  \n",
       "2              by us  \n",
       "3  by unknown animal  \n",
       "4  by unknown animal  "
      ]
     },
     "execution_count": 3,
     "metadata": {},
     "output_type": "execute_result"
    }
   ],
   "source": [
    "cleaned_v1 = pd.read_csv('data/cleaned_v1.csv')\n",
    "cleaned_v1.head()"
   ]
  },
  {
   "cell_type": "code",
   "execution_count": null,
   "metadata": {},
   "outputs": [],
   "source": []
  }
 ],
 "metadata": {
  "kernelspec": {
   "display_name": ".chickens_timeline",
   "language": "python",
   "name": "python3"
  },
  "language_info": {
   "codemirror_mode": {
    "name": "ipython",
    "version": 3
   },
   "file_extension": ".py",
   "mimetype": "text/x-python",
   "name": "python",
   "nbconvert_exporter": "python",
   "pygments_lexer": "ipython3",
   "version": "3.13.0"
  }
 },
 "nbformat": 4,
 "nbformat_minor": 2
}
